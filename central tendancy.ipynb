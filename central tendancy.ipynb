{
  "nbformat": 4,
  "nbformat_minor": 0,
  "metadata": {
    "colab": {
      "provenance": []
    },
    "kernelspec": {
      "name": "python3",
      "display_name": "Python 3"
    },
    "language_info": {
      "name": "python"
    }
  },
  "cells": [
    {
      "cell_type": "code",
      "execution_count": 1,
      "metadata": {
        "id": "Z_h9I75Bn5hP"
      },
      "outputs": [],
      "source": [
        "import statistics\n",
        "data = [1,2,3,4,5,6,7,8,9]"
      ]
    },
    {
      "cell_type": "code",
      "source": [
        "mean = statistics.mean(data)\n",
        "print(\"Mean:\",mean)\n"
      ],
      "metadata": {
        "colab": {
          "base_uri": "https://localhost:8080/"
        },
        "id": "B0cUSw1goSvj",
        "outputId": "823cd386-e69e-4455-9194-06c131ae0e6e"
      },
      "execution_count": 2,
      "outputs": [
        {
          "output_type": "stream",
          "name": "stdout",
          "text": [
            "Mean: 5\n"
          ]
        }
      ]
    },
    {
      "cell_type": "code",
      "source": [
        "median = statistics.median(data)\n",
        "print(\"Median:\",median)"
      ],
      "metadata": {
        "colab": {
          "base_uri": "https://localhost:8080/"
        },
        "id": "CpJocITRomAF",
        "outputId": "fa433f9c-66f3-4cb8-881a-518c55d37c5f"
      },
      "execution_count": 3,
      "outputs": [
        {
          "output_type": "stream",
          "name": "stdout",
          "text": [
            "Median: 5\n"
          ]
        }
      ]
    },
    {
      "cell_type": "code",
      "source": [
        "mode = statistics.mode(data)\n",
        "print(\"Mode:\",mode)"
      ],
      "metadata": {
        "colab": {
          "base_uri": "https://localhost:8080/"
        },
        "id": "tT0ECLYmo3-k",
        "outputId": "26a6caba-d9ed-466a-fecf-c6790a9db2d6"
      },
      "execution_count": 4,
      "outputs": [
        {
          "output_type": "stream",
          "name": "stdout",
          "text": [
            "Mode: 1\n"
          ]
        }
      ]
    },
    {
      "cell_type": "code",
      "source": [
        "variance = statistics.variance(data)\n",
        "print(\"Variance:\",variance)"
      ],
      "metadata": {
        "colab": {
          "base_uri": "https://localhost:8080/"
        },
        "id": "tOyAFYrjpCWH",
        "outputId": "5d76af81-ee2d-4fa5-c1b4-e35367c6a232"
      },
      "execution_count": 5,
      "outputs": [
        {
          "output_type": "stream",
          "name": "stdout",
          "text": [
            "Variance: 7.5\n"
          ]
        }
      ]
    },
    {
      "cell_type": "code",
      "source": [
        "std_deviation = statistics.stdev(data)\n",
        "print(\"Standard Deviation:\",std_deviation)"
      ],
      "metadata": {
        "colab": {
          "base_uri": "https://localhost:8080/"
        },
        "id": "3HA0CCVhpTbW",
        "outputId": "02ffc562-4d0c-4b2e-dbae-8523c1ef35c8"
      },
      "execution_count": 6,
      "outputs": [
        {
          "output_type": "stream",
          "name": "stdout",
          "text": [
            "Standard Deviation: 2.7386127875258306\n"
          ]
        }
      ]
    }
  ]
}